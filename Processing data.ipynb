{
 "cells": [
  {
   "cell_type": "code",
   "execution_count": 3,
   "metadata": {
    "collapsed": false
   },
   "outputs": [],
   "source": [
    "from pylab import *\n",
    "import numpy as np\n",
    "from scipy.sparse import coo_matrix, csr_matrix, csc_matrix\n",
    "from sklearn import preprocessing\n",
    "from sklearn.metrics import pairwise\n",
    "import itertools\n"
   ]
  },
  {
   "cell_type": "code",
   "execution_count": 11,
   "metadata": {
    "collapsed": false
   },
   "outputs": [
    {
     "name": "stdout",
     "output_type": "stream",
     "text": [
      "starting file\n",
      "convert data to lists\n",
      "converting training data to list\n",
      "Max movie counted: 65132\n",
      "converting index and frequency lists to csc and article lists\n",
      "in jagged to csc method\n",
      "maxcolumn: 65133\n",
      "creating sparse csr of movies\n",
      "rows: 71534 \t cols: 65133\n",
      "------------finished-------------\n"
     ]
    }
   ],
   "source": []
  },
  {
   "cell_type": "code",
   "execution_count": null,
   "metadata": {
    "collapsed": true
   },
   "outputs": [],
   "source": []
  },
  {
   "cell_type": "code",
   "execution_count": 4,
   "metadata": {
    "collapsed": true
   },
   "outputs": [],
   "source": [
    "max_movies = 65133 # based on actors directors and genres file\n",
    "def file_to_list(file, verbose=False):\n",
    "    if verbose:\n",
    "        print(\"converting training data to list\")\n",
    "    file = 'data/' + file\n",
    "    max_movie_count = 0\n",
    "    movie_list = []\n",
    "    user_list = []\n",
    "    rating_list = []\n",
    "    with open(file, 'r') as csv:\n",
    "        movie_num = 0\n",
    "        movie_freqs = [0] * max_movies\n",
    "        csv.readline()  # skip header\n",
    "        for row in csv:\n",
    "            # each row is are movie indexes paired with their counts, all separated by spaces\n",
    "            row_list = row.split(' ')\n",
    "            user_id = int(row_list[0]) - 1\n",
    "            movie_id = int(row_list[1]) - 1\n",
    "            rating = float(row_list[2])\n",
    "            if movie_id > max_movie_count:\n",
    "                max_movie_count = movie_id\n",
    "            movie_freqs[movie_id] += 1\n",
    "\n",
    "            # each appended item is a article with its movie (reference indexes) and respective counts\n",
    "            # creates jagged list with varying length reviews\n",
    "            user_list.append(user_id)\n",
    "            movie_list.append(movie_id)\n",
    "            rating_list.append(rating)\n",
    "    if verbose:\n",
    "        print(\"Max movie counted: {}\".format(max_movie_count))\n",
    "\n",
    "    return user_list, movie_list, rating_list, movie_freqs\n"
   ]
  },
  {
   "cell_type": "code",
   "execution_count": 5,
   "metadata": {
    "collapsed": true
   },
   "outputs": [],
   "source": [
    "def lists_to_csc(user_list, movie_list, rating_list, verbose):\n",
    "    if verbose:\n",
    "        print(\"in jagged to csc method\")\n",
    "    max_movie_index = max(movie_list) + 1\n",
    "    max_user_index = user_list[len(user_list) - 1] + 1\n",
    "    if verbose:\n",
    "        print(\"maxcolumn: {}\".format(max_movie_index))\n",
    "    coo = create_coo(user_list, movie_list, rating_list, max_user_index, max_movie_index, verbose)\n",
    "    return csr_matrix(coo)\n"
   ]
  },
  {
   "cell_type": "code",
   "execution_count": 6,
   "metadata": {
    "collapsed": true
   },
   "outputs": [],
   "source": [
    "# helper method creates sparse coordinate format matrix for fast construction\n",
    "def create_coo(rows, cols, values, num_rows, num_cols, verbose):\n",
    "    if verbose:\n",
    "        print('creating sparse csr of movies')\n",
    "        print(\"rows: {0} \\t cols: {1}\".format(num_rows, num_cols))\n",
    "    # in create csr\n",
    "    sparse_coo = coo_matrix((values, (rows, cols)), shape=(num_rows, num_cols), dtype=np.float32)\n",
    "    return sparse_coo\n"
   ]
  },
  {
   "cell_type": "code",
   "execution_count": 7,
   "metadata": {
    "collapsed": true
   },
   "outputs": [],
   "source": [
    "# t = training data, x = test data\n",
    "def write_csc_to_disk(csc, fn, verbose):\n",
    "    if verbose:\n",
    "        print('csc file {0} to disk'.format(fn))\n",
    "    fn = 'data/' + fn\n",
    "    np.savez(fn, data=csc.data, indices=csc.indices, indptr=csc.indptr, shape=csc.shape)\n"
   ]
  },
  {
   "cell_type": "code",
   "execution_count": 8,
   "metadata": {
    "collapsed": true
   },
   "outputs": [],
   "source": [
    "def write_list_to_disk(dense_bag_of_movies, fn, verbose):\n",
    "    if verbose:\n",
    "        print(\"writing articles to list {}\".format(fn))\n",
    "    with open(fn, 'w') as csv:\n",
    "        for row in dense_bag_of_movies:\n",
    "            csv.write(\"{0}\\n\".format(row))\n"
   ]
  },
  {
   "cell_type": "code",
   "execution_count": 9,
   "metadata": {
    "collapsed": true
   },
   "outputs": [],
   "source": [
    "def write_list_to_disk(dense_bag_of_movies, fn, verbose):\n",
    "    if verbose:\n",
    "        print(\"writing articles to list {}\".format(fn))\n",
    "    with open(fn, 'w') as csv:\n",
    "        for row in dense_bag_of_movies:\n",
    "            csv.write(\"{0}\\n\".format(row))\n"
   ]
  },
  {
   "cell_type": "code",
   "execution_count": 10,
   "metadata": {
    "collapsed": true
   },
   "outputs": [],
   "source": [
    "def get_fns(full_run=True):\n",
    "    if full_run:\n",
    "        rating_fn = 'train.dat'\n",
    "        movie_actors_fn = 'movie_actors.latin1.dat'\n",
    "        movie_directors_fn = 'movie_directors.latin1.dat'\n",
    "        movie_genres_fn = 'movie_genres.dat'\n",
    "        movie_tags_fn = 'movie_tags.dat'\n",
    "        user_tags_fn = 'user_taggedmovies.dat'\n",
    "        tags_fn = 'tags.dat'\n",
    "        test_fn = 'test.dat'\n",
    "    else:\n",
    "        short_dir = 'short/'\n",
    "        rating_fn = short_dir + 'train_short.dat'\n",
    "        movie_actors_fn = short_dir + 'movie_actors.latin1_short.dat'\n",
    "        movie_directors_fn = short_dir + 'movie_directors.latin1_short.dat'\n",
    "        movie_genres_fn = short_dir + 'movie_genres_short.dat'\n",
    "        movie_tags_fn = short_dir + 'movie_tags_short.dat'\n",
    "        user_tags_fn = short_dir + 'user_taggedmovies_short.dat'\n",
    "        tags_fn = short_dir + 'tags_short.dat'\n",
    "        test_fn = short_dir + 'test_short.dat'\n",
    "    return rating_fn, movie_actors_fn, movie_directors_fn, movie_genres_fn, movie_tags_fn, user_tags_fn, tags_fn, test_fn\n"
   ]
  },
  {
   "cell_type": "code",
   "execution_count": 14,
   "metadata": {
    "collapsed": false
   },
   "outputs": [
    {
     "ename": "NameError",
     "evalue": "name 'rating_csc' is not defined",
     "output_type": "error",
     "traceback": [
      "\u001b[0;31m---------------------------------------------------------------------------\u001b[0m",
      "\u001b[0;31mNameError\u001b[0m                                 Traceback (most recent call last)",
      "\u001b[0;32m<ipython-input-14-b94ecb4d211d>\u001b[0m in \u001b[0;36m<module>\u001b[0;34m()\u001b[0m\n\u001b[0;32m----> 1\u001b[0;31m \u001b[0mrating_csc\u001b[0m\u001b[1;33m[\u001b[0m\u001b[1;33m:\u001b[0m\u001b[1;36m10\u001b[0m\u001b[1;33m,\u001b[0m \u001b[1;33m:\u001b[0m\u001b[1;36m10\u001b[0m\u001b[1;33m]\u001b[0m\u001b[1;33m\u001b[0m\u001b[0m\n\u001b[0m",
      "\u001b[0;31mNameError\u001b[0m: name 'rating_csc' is not defined"
     ]
    }
   ],
   "source": [
    "verbose = True\n",
    "full_run = True\n",
    "frequency_write = True\n",
    "if verbose:\n",
    "    print('starting file')\n",
    "\n",
    "rating_fn, movie_actors_fn, movie_directors_fn, movie_genres_fn, movie_tags_fn, user_tags_fn, tags_fn, test_fn = \\\n",
    "    get_fns(full_run)\n",
    "# convert data to lists\n",
    "if verbose:\n",
    "    print(\"convert data to lists\")\n",
    "user_list, movie_list, rating_list, movie_freqs = file_to_list(rating_fn, verbose)\n",
    "\n",
    "# convert lists to cscs\n",
    "if verbose:\n",
    "    print(\"converting index and frequency lists to csc and article lists\")\n",
    "rating_csc = lists_to_csc(user_list, movie_list, rating_list, verbose)\n",
    "\n",
    "if verbose:\n",
    "    print(\"------------finished-------------\")\n"
   ]
  },
  {
   "cell_type": "code",
   "execution_count": 50,
   "metadata": {
    "collapsed": false
   },
   "outputs": [],
   "source": [
    "def delete_csc_rows(csc, indices):\n",
    "    bool_indx = np.ones(csc.shape[0], dtype=bool)\n",
    "    len_string = \"{} {} {}\".format(rating_csc.shape[0], indices.shape[0], bool_indx.shape[0])\n",
    "    print(len_string)\n",
    "    return  csc[indices]"
   ]
  },
  {
   "cell_type": "code",
   "execution_count": 53,
   "metadata": {
    "collapsed": false
   },
   "outputs": [
    {
     "name": "stdout",
     "output_type": "stream",
     "text": [
      "71534 71534 71534\n",
      "[[ 0.  0.  0. ...,  0.  0.  0.]]\n"
     ]
    }
   ],
   "source": [
    "sums = rating_csc.sum(axis=1)#row sums\n",
    "indices = sums > 0\n",
    "trimmed_csc = delete_csc_rows(rating_csc, indices)\n",
    "print(trimmed_csc)"
   ]
  },
  {
   "cell_type": "code",
   "execution_count": 47,
   "metadata": {
    "collapsed": false
   },
   "outputs": [
    {
     "name": "stdout",
     "output_type": "stream",
     "text": [
      "[1 1 3 1 1]\n"
     ]
    }
   ],
   "source": [
    "test_array = np.array([1,2,3,4,5])\n",
    "index_array = np.array([True,True, False, True, True])\n",
    "test_array[index_array]=1\n",
    "print(test_array)\n",
    "# print(len(test_array))\n",
    "# print(len(index_array))"
   ]
  },
  {
   "cell_type": "code",
   "execution_count": null,
   "metadata": {
    "collapsed": true
   },
   "outputs": [],
   "source": []
  }
 ],
 "metadata": {
  "anaconda-cloud": {},
  "kernelspec": {
   "display_name": "Python [conda root]",
   "language": "python",
   "name": "conda-root-py"
  },
  "language_info": {
   "codemirror_mode": {
    "name": "ipython",
    "version": 3
   },
   "file_extension": ".py",
   "mimetype": "text/x-python",
   "name": "python",
   "nbconvert_exporter": "python",
   "pygments_lexer": "ipython3",
   "version": "3.5.2"
  }
 },
 "nbformat": 4,
 "nbformat_minor": 1
}
