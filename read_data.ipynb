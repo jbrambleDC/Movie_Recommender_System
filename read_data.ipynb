{
 "cells": [
  {
   "cell_type": "code",
   "execution_count": 2,
   "metadata": {
    "collapsed": false
   },
   "outputs": [],
   "source": [
    "from pylab import *\n",
    "import numpy as np\n",
    "from scipy.sparse import coo_matrix, csr_matrix, csc_matrix\n",
    "from sklearn import preprocessing\n",
    "import itertools\n",
    "directory = 'C:\\\\Users\\\\shane\\\\programming\\\\CS584\\\\Movie_Recommender_System'"
   ]
  },
  {
   "cell_type": "code",
   "execution_count": 1,
   "metadata": {
    "collapsed": false
   },
   "outputs": [],
   "source": [
    "max_movies = 65133 # based on actors directors and genres file\n",
    "def file_to_list(file, verbose=False):\n",
    "    if verbose:\n",
    "        print(\"converting training data to list\")\n",
    "    file = 'data/' + file\n",
    "    max_movie_count = 0\n",
    "    movie_list = []\n",
    "    user_list = []\n",
    "    rating_list = []\n",
    "    with open(file, 'r') as csv:\n",
    "        movie_num = 0\n",
    "        movie_freqs = [0] * max_movies\n",
    "        csv.readline()  # skip header\n",
    "        for row in csv:\n",
    "            # each row is are movie indexes paired with their counts, all separated by spaces\n",
    "            row_list = row.split(' ')\n",
    "            print(row_list)\n",
    "            user_id = int(row_list[0]) - 1\n",
    "            movie_id = int(row_list[1]) - 1\n",
    "            rating = float(row_list[2])\n",
    "            print(rating)\n",
    "            if movie_id > max_movie_count:\n",
    "                max_movie_count = movie_id\n",
    "            movie_freqs[movie_id] += 1\n",
    "\n",
    "            # each appended item is a article with its movie (reference indexes) and respective counts\n",
    "            # creates jagged list with varying length reviews\n",
    "            user_list.append(user_id)\n",
    "            movie_list.append(movie_id)\n",
    "            rating_list.append(rating)\n",
    "    if verbose:\n",
    "        print(\"Max movie counted: {}\".format(max_movie_count))\n",
    "\n",
    "    return user_list, movie_list, rating_list, movie_freqs"
   ]
  },
  {
   "cell_type": "code",
   "execution_count": 3,
   "metadata": {
    "collapsed": true
   },
   "outputs": [],
   "source": [
    "def lists_to_csc(user_list, movie_list, rating_list, verbose):\n",
    "    if verbose:\n",
    "        print(\"in jagged to csc method\")\n",
    "    max_movie_index = max(movie_list) + 1\n",
    "    max_user_index = user_list[len(user_list) - 1] + 1\n",
    "    if verbose:\n",
    "        print(\"maxcolumn: {}\".format(max_movie_index))\n",
    "        print(\" {} \\n {} \\n {}\".format(user_list, movie_list, rating_list))\n",
    "    coo = create_coo(user_list, movie_list, rating_list, max_user_index, max_movie_index, verbose)\n",
    "    return csr_matrix(coo)\n"
   ]
  },
  {
   "cell_type": "code",
   "execution_count": 4,
   "metadata": {
    "collapsed": true
   },
   "outputs": [],
   "source": [
    "def lists_to_csc(user_list, movie_list, rating_list, verbose):\n",
    "    if verbose:\n",
    "        print(\"in jagged to csc method\")\n",
    "    max_movie_index = max(movie_list) + 1\n",
    "    max_user_index = user_list[len(user_list) - 1] + 1\n",
    "    if verbose:\n",
    "        print(\"maxcolumn: {}\".format(max_movie_index))\n",
    "        print(\" {} \\n {} \\n {}\".format(user_list, movie_list, rating_list))\n",
    "    coo = create_coo(user_list, movie_list, rating_list, max_user_index, max_movie_index, verbose)\n",
    "    return csr_matrix(coo)"
   ]
  },
  {
   "cell_type": "code",
   "execution_count": 5,
   "metadata": {
    "collapsed": true
   },
   "outputs": [],
   "source": [
    "def write_list_to_disk(dense_bag_of_movies, fn, verbose):\n",
    "    if verbose:\n",
    "        print(\"writing articles to list {}\".format(fn))\n",
    "    with open(fn, 'w') as csv:\n",
    "        for row in dense_bag_of_movies:\n",
    "            csv.write(\"{0}\\n\".format(row))"
   ]
  },
  {
   "cell_type": "code",
   "execution_count": 6,
   "metadata": {
    "collapsed": true
   },
   "outputs": [],
   "source": [
    "def create_articles(movie_list, index_csc, verbose):\n",
    "    if verbose:\n",
    "        print(\"converting sparse index matrix to articles\")\n",
    "    bag_of_indexes = index_csc.toarray()\n",
    "    bag_of_articles = [''] * bag_of_indexes.shape[0]  # number of rows\n",
    "    article_i = 0\n",
    "    for article in bag_of_indexes:\n",
    "        movies = []  # assuming appending saves space and time instead of instantiating\n",
    "        i = 0\n",
    "        for movie_count in article:\n",
    "            movie = ''\n",
    "            if (movie_count > 0):\n",
    "                movies.append(str(word_list[i] + ' ') * int(word_count))  # multiple by word count for repeated words\n",
    "            i += 1\n",
    "        bag_of_articles[article_i] = (\"\".join(movies))  # convert list of words to string append to bag\n",
    "        article_i += 1\n",
    "    return bag_of_articles\n"
   ]
  },
  {
   "cell_type": "code",
   "execution_count": 7,
   "metadata": {
    "collapsed": true
   },
   "outputs": [],
   "source": [
    "def create_articles(movie_list, index_csc, verbose):\n",
    "    if verbose:\n",
    "        print(\"converting sparse index matrix to articles\")\n",
    "    bag_of_indexes = index_csc.toarray()\n",
    "    bag_of_articles = [''] * bag_of_indexes.shape[0]  # number of rows\n",
    "    article_i = 0\n",
    "    for article in bag_of_indexes:\n",
    "        movies = []  # assuming appending saves space and time instead of instantiating\n",
    "        i = 0\n",
    "        for movie_count in article:\n",
    "            movie = ''\n",
    "            if (movie_count > 0):\n",
    "                movies.append(str(word_list[i] + ' ') * int(word_count))  # multiple by word count for repeated words\n",
    "            i += 1\n",
    "        bag_of_articles[article_i] = (\"\".join(movies))  # convert list of words to string append to bag\n",
    "        article_i += 1\n",
    "    return bag_of_articles"
   ]
  },
  {
   "cell_type": "code",
   "execution_count": 8,
   "metadata": {
    "collapsed": true
   },
   "outputs": [],
   "source": [
    "def write_means(csc, verbose):\n",
    "    csc_row_mean = csc.mean(axis=1)\n",
    "    csc_col_mean = csc.mean(axis=0)\n",
    "    write_list_to_disk(csc_col_mean, 'column_means.txt', verbose)\n",
    "    write_list_to_disk(csc_row_mean, 'row_means.txt', verbose)"
   ]
  },
  {
   "cell_type": "code",
   "execution_count": 10,
   "metadata": {
    "collapsed": false
   },
   "outputs": [],
   "source": [
    "def get_fns(full_run=True):\n",
    "    if full_run:\n",
    "        rating_fn = 'train.dat'\n",
    "        movie_actors_fn = 'movie_actors.latin1.dat'\n",
    "        movie_directors_fn = 'movie_directors.latin1.dat'\n",
    "        movie_genres_fn = 'movie_genres.dat'\n",
    "        movie_tags_fn = 'movie_tags.dat'\n",
    "        user_tags_fn = 'user_taggedmovies.dat'\n",
    "        tags_fn = 'tags.dat'\n",
    "        test_fn = 'test.dat'\n",
    "    else:\n",
    "        short_dir = 'short/'\n",
    "        rating_fn = short_dir + 'train_short.dat'\n",
    "        movie_actors_fn = short_dir + 'movie_actors.latin1_short.dat'\n",
    "        movie_directors_fn = short_dir + 'movie_directors.latin1_short.dat'\n",
    "        movie_genres_fn = short_dir + 'movie_genres_short.dat'\n",
    "        movie_tags_fn = short_dir + 'movie_tags_short.dat'\n",
    "        user_tags_fn = short_dir + 'user_taggedmovies_short.dat'\n",
    "        tags_fn = short_dir + 'tags_short.dat'\n",
    "        test_fn = short_dir + 'test_short.dat'\n",
    "    return rating_fn, movie_actors_fn, movie_directors_fn, movie_genres_fn, movie_tags_fn, user_tags_fn, tags_fn, test_fn"
   ]
  },
  {
   "cell_type": "code",
   "execution_count": null,
   "metadata": {
    "collapsed": false
   },
   "outputs": [
    {
     "name": "stdout",
     "output_type": "stream",
     "text": [
      "starting file\n",
      "convert data to lists\n",
      "converting training data to list\n",
  
      "Max movie counted: 65132\n",
      "converting index and frequency lists to csc and article lists\n",
      "in jagged to csc method\n",
      "maxcolumn: 65133\n",
	  ]
    },
    {
     "ename": "NameError",
     "evalue": "name 'create_coo' is not defined",
     "output_type": "error",
     "traceback": [
      "\u001b[0;31m---------------------------------------------------------------------------\u001b[0m",
      "\u001b[0;31mNameError\u001b[0m                                 Traceback (most recent call last)",
      "\u001b[0;32m<ipython-input-11-ef6b8530a455>\u001b[0m in \u001b[0;36m<module>\u001b[0;34m()\u001b[0m\n\u001b[1;32m     15\u001b[0m     \u001b[0mprint\u001b[0m\u001b[1;33m(\u001b[0m\u001b[1;34m\"converting index and frequency lists to csc and article lists\"\u001b[0m\u001b[1;33m)\u001b[0m\u001b[1;33m\u001b[0m\u001b[0m\n\u001b[1;32m     16\u001b[0m \u001b[1;33m\u001b[0m\u001b[0m\n\u001b[0;32m---> 17\u001b[0;31m \u001b[0mrating_csc\u001b[0m \u001b[1;33m=\u001b[0m \u001b[0mlists_to_csc\u001b[0m\u001b[1;33m(\u001b[0m\u001b[0muser_list\u001b[0m\u001b[1;33m,\u001b[0m \u001b[0mmovie_list\u001b[0m\u001b[1;33m,\u001b[0m \u001b[0mrating_list\u001b[0m\u001b[1;33m,\u001b[0m \u001b[0mverbose\u001b[0m\u001b[1;33m)\u001b[0m\u001b[1;33m\u001b[0m\u001b[0m\n\u001b[0m\u001b[1;32m     18\u001b[0m \u001b[1;31m# i can use this to create other files\u001b[0m\u001b[1;33m\u001b[0m\u001b[1;33m\u001b[0m\u001b[0m\n\u001b[1;32m     19\u001b[0m \u001b[1;31m# if create_articles_file:\u001b[0m\u001b[1;33m\u001b[0m\u001b[1;33m\u001b[0m\u001b[0m\n",
      "\u001b[0;32m<ipython-input-4-5a11f61934f4>\u001b[0m in \u001b[0;36mlists_to_csc\u001b[0;34m(user_list, movie_list, rating_list, verbose)\u001b[0m\n\u001b[1;32m      7\u001b[0m         \u001b[0mprint\u001b[0m\u001b[1;33m(\u001b[0m\u001b[1;34m\"maxcolumn: {}\"\u001b[0m\u001b[1;33m.\u001b[0m\u001b[0mformat\u001b[0m\u001b[1;33m(\u001b[0m\u001b[0mmax_movie_index\u001b[0m\u001b[1;33m)\u001b[0m\u001b[1;33m)\u001b[0m\u001b[1;33m\u001b[0m\u001b[0m\n\u001b[1;32m      8\u001b[0m         \u001b[0mprint\u001b[0m\u001b[1;33m(\u001b[0m\u001b[1;34m\" {} \\n {} \\n {}\"\u001b[0m\u001b[1;33m.\u001b[0m\u001b[0mformat\u001b[0m\u001b[1;33m(\u001b[0m\u001b[0muser_list\u001b[0m\u001b[1;33m,\u001b[0m \u001b[0mmovie_list\u001b[0m\u001b[1;33m,\u001b[0m \u001b[0mrating_list\u001b[0m\u001b[1;33m)\u001b[0m\u001b[1;33m)\u001b[0m\u001b[1;33m\u001b[0m\u001b[0m\n\u001b[0;32m----> 9\u001b[0;31m     \u001b[0mcoo\u001b[0m \u001b[1;33m=\u001b[0m \u001b[0mcreate_coo\u001b[0m\u001b[1;33m(\u001b[0m\u001b[0muser_list\u001b[0m\u001b[1;33m,\u001b[0m \u001b[0mmovie_list\u001b[0m\u001b[1;33m,\u001b[0m \u001b[0mrating_list\u001b[0m\u001b[1;33m,\u001b[0m \u001b[0mmax_user_index\u001b[0m\u001b[1;33m,\u001b[0m \u001b[0mmax_movie_index\u001b[0m\u001b[1;33m,\u001b[0m \u001b[0mverbose\u001b[0m\u001b[1;33m)\u001b[0m\u001b[1;33m\u001b[0m\u001b[0m\n\u001b[0m\u001b[1;32m     10\u001b[0m     \u001b[1;32mreturn\u001b[0m \u001b[0mcsr_matrix\u001b[0m\u001b[1;33m(\u001b[0m\u001b[0mcoo\u001b[0m\u001b[1;33m)\u001b[0m\u001b[1;33m\u001b[0m\u001b[0m\n",
      "\u001b[0;31mNameError\u001b[0m: name 'create_coo' is not defined"
     ]
    }
   ],
   "source": [
    "verbose = True\n",
    "full_run = True\n",
    "frequency_write = True\n",
    "if verbose:\n",
    "    print('starting file')\n",
    "\n",
    "rating_fn, movie_actors_fn, movie_directors_fn, movie_genres_fn, movie_tags_fn, user_tags_fn, tags_fn, test_fn = \\\n",
    "    get_fns(full_run)\n",
    "# convert data to lists\n",
    "if verbose:\n",
    "    print(\"convert data to lists\")\n",
    "user_list, movie_list, rating_list, movie_freqs = file_to_list(rating_fn, verbose)\n",
    "\n",
    "# convert lists to cscs\n",
    "if verbose:\n",
    "    print(\"converting index and frequency lists to csc and article lists\")\n",
    "\n",
    "rating_csc = lists_to_csc(user_list, movie_list, rating_list, verbose)\n",
    "# i can use this to create other files\n",
    "# if create_articles_file:\n",
    "#     articles = create_articles(feature_list, bag_of_indexes_csc, verbose)\n",
    "\n",
    "# write cleaned data to file\n",
    "if verbose:\n",
    "    print(\"writing processed information to file\")\n",
    "    # print(rating_csc)\n",
    "write_csc_to_disk(rating_csc, 'rating_csc', verbose)\n",
    "if frequency_write:\n",
    "    write_list_to_disk(movie_freqs, 'movie_frequencies.txt', verbose)\n",
    "\n",
    "if verbose:\n",
    "    print(\"------------finished-------------\")"
   ]
  }
 ],
 "metadata": {
  "anaconda-cloud": {},
  "kernelspec": {
   "display_name": "Python [conda root]",
   "language": "python",
   "name": "conda-root-py"
  },
  "language_info": {
   "codemirror_mode": {
    "name": "ipython",
    "version": 3
   },
   "file_extension": ".py",
   "mimetype": "text/x-python",
   "name": "python",
   "nbconvert_exporter": "python",
   "pygments_lexer": "ipython3",
   "version": "3.5.2"
  }
 },
 "nbformat": 4,
 "nbformat_minor": 0
}
