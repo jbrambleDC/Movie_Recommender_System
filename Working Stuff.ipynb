{
 "cells": [
  {
   "cell_type": "code",
   "execution_count": 64,
   "metadata": {
    "collapsed": true
   },
   "outputs": [],
   "source": [
    "import numpy as np\n",
    "from scipy import sparse\n",
    "import pandas as pd"
   ]
  },
  {
   "cell_type": "code",
   "execution_count": 58,
   "metadata": {
    "collapsed": false
   },
   "outputs": [],
   "source": [
    "dir = 'data/'\n",
    "fn = dir + 'rating_csc.npz'\n",
    "npy_file = np.load(fn)\n",
    "csr = csr_matrix((npy_file['data'], npy_file['indices'], npy_file['indptr']), shape=npy_file['shape'])\n",
    " "
   ]
  },
  {
   "cell_type": "code",
   "execution_count": 51,
   "metadata": {
    "collapsed": true
   },
   "outputs": [],
   "source": [
    "def delete_csr_rows(csc, indices):\n",
    "    bool_indx = np.ones(csc.shape[0], dtype=bool)\n",
    "    len_string = \"{} {} {}\".format(csr.shape[0], indices.shape[0], bool_indx.shape[0])\n",
    "    print(len_string)\n",
    "    return  csr_matrix(csc[indices])"
   ]
  },
  {
   "cell_type": "code",
   "execution_count": 54,
   "metadata": {
    "collapsed": false
   },
   "outputs": [
    {
     "name": "stderr",
     "output_type": "stream",
     "text": [
      "C:\\Anaconda3\\lib\\site-packages\\ipykernel\\__main__.py:3: VisibleDeprecationWarning: boolean index did not match indexed array along dimension 0; dimension is 3 but corresponding boolean dimension is 5\n",
      "  app.launch_new_instance()\n"
     ]
    },
    {
     "ename": "IndexError",
     "evalue": "index 3 is out of bounds for axis 0 with size 3",
     "output_type": "error",
     "traceback": [
      "\u001b[0;31m---------------------------------------------------------------------------\u001b[0m",
      "\u001b[0;31mIndexError\u001b[0m                                Traceback (most recent call last)",
      "\u001b[0;32m<ipython-input-54-91cf3134cb25>\u001b[0m in \u001b[0;36m<module>\u001b[0;34m()\u001b[0m\n\u001b[1;32m      1\u001b[0m \u001b[0mtest_array\u001b[0m \u001b[1;33m=\u001b[0m \u001b[0mnp\u001b[0m\u001b[1;33m.\u001b[0m\u001b[0marray\u001b[0m\u001b[1;33m(\u001b[0m\u001b[1;33m[\u001b[0m\u001b[1;33m[\u001b[0m\u001b[1;36m1\u001b[0m\u001b[1;33m,\u001b[0m\u001b[1;36m2\u001b[0m\u001b[1;33m,\u001b[0m\u001b[1;36m0\u001b[0m\u001b[1;33m]\u001b[0m\u001b[1;33m,\u001b[0m\u001b[1;33m[\u001b[0m\u001b[1;36m3\u001b[0m\u001b[1;33m,\u001b[0m\u001b[1;36m4\u001b[0m\u001b[1;33m,\u001b[0m\u001b[1;36m0\u001b[0m\u001b[1;33m]\u001b[0m\u001b[1;33m,\u001b[0m\u001b[1;33m[\u001b[0m\u001b[1;36m5\u001b[0m\u001b[1;33m,\u001b[0m\u001b[1;36m6\u001b[0m\u001b[1;33m,\u001b[0m\u001b[1;36m0\u001b[0m\u001b[1;33m]\u001b[0m\u001b[1;33m]\u001b[0m\u001b[1;33m)\u001b[0m\u001b[1;33m\u001b[0m\u001b[0m\n\u001b[1;32m      2\u001b[0m \u001b[0mindex_array\u001b[0m \u001b[1;33m=\u001b[0m \u001b[0mnp\u001b[0m\u001b[1;33m.\u001b[0m\u001b[0marray\u001b[0m\u001b[1;33m(\u001b[0m\u001b[1;33m[\u001b[0m\u001b[1;32mTrue\u001b[0m\u001b[1;33m,\u001b[0m\u001b[1;32mTrue\u001b[0m\u001b[1;33m,\u001b[0m \u001b[1;32mFalse\u001b[0m\u001b[1;33m,\u001b[0m \u001b[1;32mTrue\u001b[0m\u001b[1;33m,\u001b[0m \u001b[1;32mTrue\u001b[0m\u001b[1;33m]\u001b[0m\u001b[1;33m)\u001b[0m\u001b[1;33m\u001b[0m\u001b[0m\n\u001b[0;32m----> 3\u001b[0;31m \u001b[0mtest_array\u001b[0m\u001b[1;33m[\u001b[0m\u001b[0mindex_array\u001b[0m\u001b[1;33m]\u001b[0m\u001b[1;33m\u001b[0m\u001b[0m\n\u001b[0m\u001b[1;32m      4\u001b[0m \u001b[0mprint\u001b[0m\u001b[1;33m(\u001b[0m\u001b[0mtest_array\u001b[0m\u001b[1;33m)\u001b[0m\u001b[1;33m\u001b[0m\u001b[0m\n\u001b[1;32m      5\u001b[0m \u001b[0mprint\u001b[0m\u001b[1;33m(\u001b[0m\u001b[0mtest_array\u001b[0m\u001b[1;33m.\u001b[0m\u001b[0mshape\u001b[0m\u001b[1;33m)\u001b[0m\u001b[1;33m\u001b[0m\u001b[0m\n",
      "\u001b[0;31mIndexError\u001b[0m: index 3 is out of bounds for axis 0 with size 3"
     ]
    }
   ],
   "source": [
    "test_array = np.array([[1,2,0],[3,4,0],[5,6,0]])\n",
    "index_array = np.array([True,True, False, True, True])\n",
    "test_array[index_array]\n",
    "print(test_array)\n",
    "print(test_array.shape)\n",
    "sums = test_array.sum(axis=1)\n",
    "print(sums)\n",
    "# print(len(index_array))"
   ]
  },
  {
   "cell_type": "code",
   "execution_count": 52,
   "metadata": {
    "collapsed": false
   },
   "outputs": [
    {
     "name": "stdout",
     "output_type": "stream",
     "text": [
      "127\n",
      "[[False]\n",
      " [False]\n",
      " [False]\n",
      " [False]\n",
      " [ True]\n",
      " [False]\n",
      " [False]\n",
      " [ True]\n",
      " [False]\n",
      " [False]]\n",
      "[[ 31.   30.5   9.5]]\n",
      "127 127 127\n",
      "[[ 0.  0.  0.]]\n"
     ]
    }
   ],
   "source": [
    "sums = csr.sum(axis=1)#row sums\n",
    "print(len(sums))\n",
    "# print(sums)\n",
    "indices = sums > 0\n",
    "print(indices[70:80])\n",
    "print(sums[indices])\n",
    "trimmed_csr = delete_csr_rows(csr, indices)\n",
    "print(trimmed_csr.toarray())"
   ]
  },
  {
   "cell_type": "code",
   "execution_count": 65,
   "metadata": {
    "collapsed": false
   },
   "outputs": [],
   "source": [
    "coo = sparse.coo_matrix(csr)"
   ]
  },
  {
   "cell_type": "code",
   "execution_count": 71,
   "metadata": {
    "collapsed": false
   },
   "outputs": [
    {
     "name": "stdout",
     "output_type": "stream",
     "text": [
      "        index    col  data\n",
      "0          74      2   1.0\n",
      "1          74     31   4.5\n",
      "2          74    109   4.0\n",
      "3          74    162   4.0\n",
      "4          74    164   4.5\n",
      "5          74    172   3.5\n",
      "6          74    352   3.5\n",
      "7          74    419   2.0\n",
      "8          74    588   4.0\n",
      "9          74    831   4.5\n",
      "10         74    919   0.5\n",
      "11         74    995   4.5\n",
      "12         74   1126   3.5\n",
      "13         74   1214   4.5\n",
      "14         74   1232   4.0\n",
      "15         74   1369   4.0\n",
      "16         74   1373   4.0\n",
      "17         74   1484   4.0\n",
      "18         74   1916   2.5\n",
      "19         74   2010   2.0\n",
      "20         74   2053   1.5\n",
      "21         74   2489   4.0\n",
      "22         74   2570   4.5\n",
      "23         74   2639   3.0\n",
      "24         74   2699   4.5\n",
      "25         74   2761   3.5\n",
      "26         74   2958   4.5\n",
      "27         74   3792   3.0\n",
      "28         74   3888   3.0\n",
      "29         74   3993   3.5\n",
      "...       ...    ...   ...\n",
      "641669  71533   3628   4.5\n",
      "641670  71533   3995   4.0\n",
      "641671  71533   4225   4.5\n",
      "641672  71533   4234   4.0\n",
      "641673  71533   4356   4.5\n",
      "641674  71533   4358   5.0\n",
      "641675  71533   4972   4.0\n",
      "641676  71533   5146   4.0\n",
      "641677  71533   5877   4.0\n",
      "641678  71533   5994   5.0\n",
      "641679  71533   6817   4.5\n",
      "641680  71533   6873   4.0\n",
      "641681  71533   7083   4.5\n",
      "641682  71533   7237   4.0\n",
      "641683  71533   7360   4.0\n",
      "641684  71533   7370   2.5\n",
      "641685  71533   7578   4.0\n",
      "641686  71533   7933   3.5\n",
      "641687  71533   7982   5.0\n",
      "641688  71533  27726   3.5\n",
      "641689  71533  33165   4.5\n",
      "641690  71533  33563   4.0\n",
      "641691  71533  39868   4.5\n",
      "641692  71533  40628   2.0\n",
      "641693  71533  40818   4.0\n",
      "641694  71533  42899   4.0\n",
      "641695  71533  44554   4.0\n",
      "641696  71533  46577   4.0\n",
      "641697  71533  61074   5.0\n",
      "641698  71533  62048   4.5\n",
      "\n",
      "[641699 rows x 3 columns]\n"
     ]
    }
   ],
   "source": [
    "df = pd.DataFrame({'index': coo.row, 'col': coo.col, 'data': coo.data})\n",
    "df = df[['index', 'col', 'data']].sort_values(['index','col']).reset_index(drop=True)\n",
    "print(df)"
   ]
  },
  {
   "cell_type": "code",
   "execution_count": 78,
   "metadata": {
    "collapsed": false
   },
   "outputs": [
    {
     "name": "stdout",
     "output_type": "stream",
     "text": [
      "(2113, 65133)\n",
      "(71534, 65133)\n"
     ]
    }
   ],
   "source": [
    "truncated_rows_csr = csr[csr.getnnz(1)>0]\n",
    "print(truncated_rows_csr.shape)\n",
    "print(csr.shape)"
   ]
  },
  {
   "cell_type": "code",
   "execution_count": 80,
   "metadata": {
    "collapsed": false
   },
   "outputs": [
    {
     "data": {
      "text/plain": [
       "(2113, 9936)"
      ]
     },
     "execution_count": 80,
     "metadata": {},
     "output_type": "execute_result"
    }
   ],
   "source": [
    "truncated_csr = truncated_rows_csr[:, truncated_rows_csr.getnnz(0)>0]\n",
    "truncated_csr.shape"
   ]
  },
  {
   "cell_type": "code",
   "execution_count": 84,
   "metadata": {
    "collapsed": false
   },
   "outputs": [
    {
     "name": "stdout",
     "output_type": "stream",
     "text": [
      "   0     1     2     3     4     5     6     7     8     9     ...   9926  \\\n",
      "0   0.0   0.0   1.0   0.0   0.0   0.0   0.0   0.0   0.0   0.0  ...    0.0   \n",
      "1   0.0   0.0   0.0   0.0   0.0   0.0   0.0   0.0   0.0   0.0  ...    0.0   \n",
      "2   0.0   0.0   0.0   0.0   0.0   0.0   0.0   0.0   0.0   0.0  ...    0.0   \n",
      "3   3.0   2.0   0.0   0.0   0.0   0.0   0.0   0.0   0.0   3.5  ...    0.0   \n",
      "4   0.0   0.0   0.0   0.0   0.0   5.0   0.0   0.0   0.0   0.0  ...    0.0   \n",
      "\n",
      "   9927  9928  9929  9930  9931  9932  9933  9934  9935  \n",
      "0   0.0   0.0   0.0   0.0   0.0   0.0   0.0   0.0   0.0  \n",
      "1   0.0   0.0   0.0   0.0   0.0   0.0   0.0   0.0   0.0  \n",
      "2   0.0   0.0   0.0   0.0   0.0   0.0   0.0   0.0   0.0  \n",
      "3   0.0   0.0   0.0   0.0   0.0   0.0   0.0   0.0   0.0  \n",
      "4   0.0   0.0   0.0   0.0   0.0   0.0   0.0   0.0   0.0  \n",
      "\n",
      "[5 rows x 9936 columns]\n"
     ]
    }
   ],
   "source": [
    "movie_df = pd.DataFrame(truncated_csr.todense())\n",
    "print(movie_df.head())"
   ]
  }
 ],
 "metadata": {
  "anaconda-cloud": {},
  "kernelspec": {
   "display_name": "Python [conda root]",
   "language": "python",
   "name": "conda-root-py"
  },
  "language_info": {
   "codemirror_mode": {
    "name": "ipython",
    "version": 3
   },
   "file_extension": ".py",
   "mimetype": "text/x-python",
   "name": "python",
   "nbconvert_exporter": "python",
   "pygments_lexer": "ipython3",
   "version": "3.5.2"
  }
 },
 "nbformat": 4,
 "nbformat_minor": 1
}
