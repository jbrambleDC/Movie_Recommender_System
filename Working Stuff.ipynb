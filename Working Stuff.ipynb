{
 "cells": [
  {
   "cell_type": "code",
   "execution_count": 51,
   "metadata": {
    "collapsed": true
   },
   "outputs": [],
   "source": [
    "import numpy as np\n",
    "from scipy import sparse\n",
    "import pandas as pd\n",
    "from scipy.spatial.distance import cosine\n",
    "from sklearn.metrics.pairwise import cosine_similarity"
   ]
  },
  {
   "cell_type": "code",
   "execution_count": 4,
   "metadata": {
    "collapsed": false
   },
   "outputs": [],
   "source": [
    "dir = 'data/'\n",
    "fn = dir + 'rating_csc.npz'\n",
    "npy_file = np.load(fn)\n",
    "csr = sparse.csr_matrix((npy_file['data'], npy_file['indices'], npy_file['indptr']), shape=npy_file['shape'])\n",
    " "
   ]
  },
  {
   "cell_type": "code",
   "execution_count": 4,
   "metadata": {
    "collapsed": true
   },
   "outputs": [],
   "source": [
    "def delete_csr_rows(csc, indices):\n",
    "    bool_indx = np.ones(csc.shape[0], dtype=bool)\n",
    "    len_string = \"{} {} {}\".format(csr.shape[0], indices.shape[0], bool_indx.shape[0])\n",
    "    print(len_string)\n",
    "    return  csr_matrix(csc[indices])"
   ]
  },
  {
   "cell_type": "code",
   "execution_count": 5,
   "metadata": {
    "collapsed": false
   },
   "outputs": [
    {
     "name": "stdout",
     "output_type": "stream",
     "text": [
      "(2113, 65133)\n",
      "(71534, 65133)\n"
     ]
    }
   ],
   "source": [
    "truncated_rows_csr = csr[csr.getnnz(1)>0]\n",
    "print(truncated_rows_csr.shape)\n",
    "print(csr.shape)"
   ]
  },
  {
   "cell_type": "code",
   "execution_count": 6,
   "metadata": {
    "collapsed": false
   },
   "outputs": [
    {
     "data": {
      "text/plain": [
       "(2113, 9936)"
      ]
     },
     "execution_count": 6,
     "metadata": {},
     "output_type": "execute_result"
    }
   ],
   "source": [
    "truncated_csr = truncated_rows_csr[:, truncated_rows_csr.getnnz(0)>0]\n",
    "truncated_csr.shape"
   ]
  },
  {
   "cell_type": "code",
   "execution_count": 8,
   "metadata": {
    "collapsed": false
   },
   "outputs": [
    {
     "name": "stdout",
     "output_type": "stream",
     "text": [
      "      0     1     2     3     4     5     6     7     8     9     ...   9926  \\\n",
      "2108   NaN   3.5   NaN   NaN   NaN   NaN   NaN   NaN   NaN   NaN  ...    NaN   \n",
      "2109   4.0   NaN   NaN   NaN   1.5   NaN   NaN   NaN   NaN   NaN  ...    NaN   \n",
      "2110   NaN   NaN   NaN   NaN   NaN   NaN   NaN   NaN   NaN   NaN  ...    NaN   \n",
      "2111   NaN   NaN   2.0   NaN   NaN   NaN   NaN   NaN   NaN   NaN  ...    NaN   \n",
      "2112   NaN   NaN   NaN   NaN   NaN   4.0   NaN   NaN   NaN   4.5  ...    NaN   \n",
      "\n",
      "      9927  9928  9929  9930  9931  9932  9933  9934  9935  \n",
      "2108   NaN   NaN   NaN   NaN   NaN   NaN   NaN   NaN   NaN  \n",
      "2109   NaN   NaN   NaN   NaN   NaN   NaN   NaN   NaN   NaN  \n",
      "2110   NaN   NaN   NaN   NaN   NaN   NaN   NaN   NaN   NaN  \n",
      "2111   NaN   NaN   NaN   NaN   NaN   NaN   NaN   NaN   NaN  \n",
      "2112   NaN   NaN   NaN   NaN   NaN   NaN   NaN   NaN   NaN  \n",
      "\n",
      "[5 rows x 9936 columns]\n",
      "9931    2.5\n",
      "9932    3.5\n",
      "9933    3.0\n",
      "9934    2.5\n",
      "9935    3.0\n",
      "dtype: float32\n"
     ]
    }
   ],
   "source": [
    "df = pd.DataFrame(truncated_csr.todense())\n",
    "df_nan = df.replace(0, np.NaN)\n",
    "print(df_nan.tail())\n",
    "print(df_nan.min().tail())"
   ]
  },
  {
   "cell_type": "code",
   "execution_count": 9,
   "metadata": {
    "collapsed": false
   },
   "outputs": [
    {
     "name": "stdout",
     "output_type": "stream",
     "text": [
      "2108    3.564171\n",
      "2109    3.361592\n",
      "2110    4.008039\n",
      "2111    3.420000\n",
      "2112    4.148438\n",
      "dtype: float32\n"
     ]
    }
   ],
   "source": [
    "row_means = df_nan.mean(axis=1)\n",
    "print(row_means.tail())"
   ]
  },
  {
   "cell_type": "code",
   "execution_count": 10,
   "metadata": {
    "collapsed": false
   },
   "outputs": [
    {
     "name": "stdout",
     "output_type": "stream",
     "text": [
      "9931    3.00\n",
      "9932    3.50\n",
      "9933    3.25\n",
      "9934    2.50\n",
      "9935    3.50\n",
      "dtype: float32\n"
     ]
    }
   ],
   "source": [
    "col_means = df_nan.mean(axis=0)\n",
    "print(col_means.tail())"
   ]
  },
  {
   "cell_type": "code",
   "execution_count": 11,
   "metadata": {
    "collapsed": false
   },
   "outputs": [],
   "source": [
    "df = df_nan"
   ]
  },
  {
   "cell_type": "code",
   "execution_count": 12,
   "metadata": {
    "collapsed": false
   },
   "outputs": [
    {
     "name": "stdout",
     "output_type": "stream",
     "text": [
      "2108    2.078194e-07\n",
      "2109    1.682955e-07\n",
      "2110    7.206221e-07\n",
      "2111   -7.629394e-08\n",
      "2112    0.000000e+00\n",
      "dtype: float32\n"
     ]
    }
   ],
   "source": [
    "df_row_centered = df.sub(row_means, axis=0)\n",
    "df_row_centered.tail()\n",
    "print(df_row_centered.mean(axis=1).tail())"
   ]
  },
  {
   "cell_type": "code",
   "execution_count": 13,
   "metadata": {
    "collapsed": false
   },
   "outputs": [
    {
     "name": "stdout",
     "output_type": "stream",
     "text": [
      "9931    0.0\n",
      "9932    0.0\n",
      "9933    0.0\n",
      "9934    0.0\n",
      "9935    0.0\n",
      "dtype: float32\n"
     ]
    }
   ],
   "source": [
    "df_col_centered = df.sub(col_means, axis=1)\n",
    "df_col_centered.tail()\n",
    "print(df_col_centered.mean(axis=0).tail())"
   ]
  },
  {
   "cell_type": "code",
   "execution_count": 43,
   "metadata": {
    "collapsed": false
   },
   "outputs": [
    {
     "data": {
      "text/html": [
       "<div>\n",
       "<table border=\"1\" class=\"dataframe\">\n",
       "  <thead>\n",
       "    <tr style=\"text-align: right;\">\n",
       "      <th></th>\n",
       "      <th>0</th>\n",
       "      <th>1</th>\n",
       "      <th>2</th>\n",
       "      <th>3</th>\n",
       "      <th>4</th>\n",
       "      <th>5</th>\n",
       "    </tr>\n",
       "  </thead>\n",
       "  <tbody>\n",
       "    <tr>\n",
       "      <th>0</th>\n",
       "      <td>7.0</td>\n",
       "      <td>6.0</td>\n",
       "      <td>7.0</td>\n",
       "      <td>4</td>\n",
       "      <td>5</td>\n",
       "      <td>4.0</td>\n",
       "    </tr>\n",
       "    <tr>\n",
       "      <th>1</th>\n",
       "      <td>6.0</td>\n",
       "      <td>7.0</td>\n",
       "      <td>NaN</td>\n",
       "      <td>4</td>\n",
       "      <td>3</td>\n",
       "      <td>4.0</td>\n",
       "    </tr>\n",
       "    <tr>\n",
       "      <th>2</th>\n",
       "      <td>NaN</td>\n",
       "      <td>3.0</td>\n",
       "      <td>3.0</td>\n",
       "      <td>1</td>\n",
       "      <td>1</td>\n",
       "      <td>NaN</td>\n",
       "    </tr>\n",
       "    <tr>\n",
       "      <th>3</th>\n",
       "      <td>1.0</td>\n",
       "      <td>2.0</td>\n",
       "      <td>2.0</td>\n",
       "      <td>3</td>\n",
       "      <td>3</td>\n",
       "      <td>4.0</td>\n",
       "    </tr>\n",
       "    <tr>\n",
       "      <th>4</th>\n",
       "      <td>1.0</td>\n",
       "      <td>NaN</td>\n",
       "      <td>1.0</td>\n",
       "      <td>2</td>\n",
       "      <td>3</td>\n",
       "      <td>3.0</td>\n",
       "    </tr>\n",
       "  </tbody>\n",
       "</table>\n",
       "</div>"
      ],
      "text/plain": [
       "     0    1    2  3  4    5\n",
       "0  7.0  6.0  7.0  4  5  4.0\n",
       "1  6.0  7.0  NaN  4  3  4.0\n",
       "2  NaN  3.0  3.0  1  1  NaN\n",
       "3  1.0  2.0  2.0  3  3  4.0\n",
       "4  1.0  NaN  1.0  2  3  3.0"
      ]
     },
     "execution_count": 43,
     "metadata": {},
     "output_type": "execute_result"
    }
   ],
   "source": [
    "test_movie_list = [[7,6,7,4,5,4],[6,7,0,4,3,4],[0,3,3,1,1,0],[1,2,2,3,3,4],[1,0,1,2,3,3]]\n",
    "df_test = pd.DataFrame(test_movie_list)\n",
    "df_test = df_test.replace(0, np.NaN)\n",
    "df_test"
   ]
  },
  {
   "cell_type": "code",
   "execution_count": 106,
   "metadata": {
    "collapsed": false
   },
   "outputs": [
    {
     "data": {
      "text/html": [
       "<div>\n",
       "<table border=\"1\" class=\"dataframe\">\n",
       "  <thead>\n",
       "    <tr style=\"text-align: right;\">\n",
       "      <th></th>\n",
       "      <th>0</th>\n",
       "      <th>1</th>\n",
       "      <th>2</th>\n",
       "      <th>3</th>\n",
       "      <th>4</th>\n",
       "      <th>5</th>\n",
       "    </tr>\n",
       "  </thead>\n",
       "  <tbody>\n",
       "    <tr>\n",
       "      <th>0</th>\n",
       "      <td>True</td>\n",
       "      <td>True</td>\n",
       "      <td>True</td>\n",
       "      <td>True</td>\n",
       "      <td>True</td>\n",
       "      <td>True</td>\n",
       "    </tr>\n",
       "    <tr>\n",
       "      <th>1</th>\n",
       "      <td>True</td>\n",
       "      <td>True</td>\n",
       "      <td>False</td>\n",
       "      <td>True</td>\n",
       "      <td>True</td>\n",
       "      <td>True</td>\n",
       "    </tr>\n",
       "    <tr>\n",
       "      <th>2</th>\n",
       "      <td>False</td>\n",
       "      <td>True</td>\n",
       "      <td>True</td>\n",
       "      <td>True</td>\n",
       "      <td>True</td>\n",
       "      <td>False</td>\n",
       "    </tr>\n",
       "    <tr>\n",
       "      <th>3</th>\n",
       "      <td>True</td>\n",
       "      <td>True</td>\n",
       "      <td>True</td>\n",
       "      <td>True</td>\n",
       "      <td>True</td>\n",
       "      <td>True</td>\n",
       "    </tr>\n",
       "    <tr>\n",
       "      <th>4</th>\n",
       "      <td>True</td>\n",
       "      <td>False</td>\n",
       "      <td>True</td>\n",
       "      <td>True</td>\n",
       "      <td>True</td>\n",
       "      <td>True</td>\n",
       "    </tr>\n",
       "  </tbody>\n",
       "</table>\n",
       "</div>"
      ],
      "text/plain": [
       "       0      1      2     3     4      5\n",
       "0   True   True   True  True  True   True\n",
       "1   True   True  False  True  True   True\n",
       "2  False   True   True  True  True  False\n",
       "3   True   True   True  True  True   True\n",
       "4   True  False   True  True  True   True"
      ]
     },
     "execution_count": 106,
     "metadata": {},
     "output_type": "execute_result"
    }
   ],
   "source": [
    "nulls = df_test.notnull()\n",
    "trues_to_one = nulls.replace(True, 1)\n",
    "trues_to_one"
   ]
  },
  {
   "cell_type": "code",
   "execution_count": 96,
   "metadata": {
    "collapsed": false
   },
   "outputs": [
    {
     "name": "stdout",
     "output_type": "stream",
     "text": [
      "0     True\n",
      "1     True\n",
      "2    False\n",
      "3     True\n",
      "4     True\n",
      "5     True\n",
      "Name: 1, dtype: bool\n",
      "0     True\n",
      "1    False\n",
      "2     True\n",
      "3     True\n",
      "4     True\n",
      "5     True\n",
      "Name: 4, dtype: bool\n",
      "3\n"
     ]
    }
   ],
   "source": [
    "print(nulls.loc[1])\n",
    "print(nulls.loc[4])\n",
    "print(sum(nulls.loc[2]&nulls.loc[1]))"
   ]
  },
  {
   "cell_type": "code",
   "execution_count": 98,
   "metadata": {
    "collapsed": false
   },
   "outputs": [
    {
     "name": "stdout",
     "output_type": "stream",
     "text": [
      "[[ 6.  5.  4.  6.  5.]\n",
      " [ 5.  5.  3.  5.  4.]\n",
      " [ 4.  3.  4.  4.  3.]\n",
      " [ 6.  5.  4.  6.  5.]\n",
      " [ 5.  4.  3.  5.  5.]]\n"
     ]
    }
   ],
   "source": [
    "common_element_list = np.zeros([len(nulls),len(nulls)])\n",
    "for i in range(len(nulls)):\n",
    "    for j in range(len(nulls)):\n",
    "        common_element_list[i,j] = sum(nulls.loc[i] & nulls.loc[j])\n",
    "print(common_element_list)"
   ]
  },
  {
   "cell_type": "code",
   "execution_count": 102,
   "metadata": {
    "collapsed": false
   },
   "outputs": [
    {
     "data": {
      "text/plain": [
       "True"
      ]
     },
     "execution_count": 102,
     "metadata": {},
     "output_type": "execute_result"
    }
   ],
   "source": [
    "nulls.loc[0].dot(nulls.loc[1])"
   ]
  },
  {
   "cell_type": "code",
   "execution_count": null,
   "metadata": {
    "collapsed": false
   },
   "outputs": [],
   "source": []
  },
  {
   "cell_type": "code",
   "execution_count": null,
   "metadata": {
    "collapsed": true
   },
   "outputs": [],
   "source": []
  }
 ],
 "metadata": {
  "anaconda-cloud": {},
  "kernelspec": {
   "display_name": "Python [conda root]",
   "language": "python",
   "name": "conda-root-py"
  },
  "language_info": {
   "codemirror_mode": {
    "name": "ipython",
    "version": 3
   },
   "file_extension": ".py",
   "mimetype": "text/x-python",
   "name": "python",
   "nbconvert_exporter": "python",
   "pygments_lexer": "ipython3",
   "version": "3.5.2"
  }
 },
 "nbformat": 4,
 "nbformat_minor": 1
}
